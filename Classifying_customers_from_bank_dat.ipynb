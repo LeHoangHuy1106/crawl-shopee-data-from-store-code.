{
  "nbformat": 4,
  "nbformat_minor": 0,
  "metadata": {
    "colab": {
      "provenance": []
    },
    "kernelspec": {
      "name": "python3",
      "display_name": "Python 3"
    },
    "language_info": {
      "name": "python"
    }
  },
  "cells": [
    {
      "cell_type": "markdown",
      "source": [
        "Bài 1: (5 điểm)\n",
        "Giải quyết một bài toán phân loại (classification) trong học máy với các yêu cầu sau: \n",
        "- Tự đặt ra hoặc tự tìm Bài toán với dữ liệu có sẵn hoặc dữ liệu tự xây dựng. Dữ liệu phải\n",
        "là dạng có cấu trúc, tức là dạng bảng biểu với cột là thuộc tính (attribute) và mỗi dòng là\n",
        "một đối tượng (instance).\n",
        "Dữ liệu phong phú với nhiều thuộc tính, các thuộc tính thuộc nhiều kiểu data khác nhau\n",
        "(numerical, categorical). Số lượng các phần tử (các dòng) càng nhiều càng tốt.\n",
        "- Thực hiện các bước đọc dữ liệu, chuẩn hoá dữ liệu trước khi đưa vào mô hình để học.\n",
        "- Sử dụng ít nhất 3 mô hình phân loại khác nhau. So sánh các mô hình này với các độ đo:\n",
        "accuracy, precision, recall, f1-score của từng class và weighted average of f1-score của\n",
        "toàn bộ dữ liệu. So sánh về thời gian training và thời gian testing của các models này."
      ],
      "metadata": {
        "id": "dEdwzR4haeeO"
      }
    },
    {
      "cell_type": "markdown",
      "source": [
        "### **Mô Tả Dữ Liệu**\n",
        "Dữ liệu có liên quan đến các chiến dịch tiếp thị trực tiếp của một tổ chức ngân hàng Bồ Đào Nha. Các chiến dịch tiếp thị dựa trên các cuộc gọi điện thoại. Thông thường, cần có nhiều liên hệ với cùng một khách hàng, để truy cập xem sản phẩm (tiền gửi có kỳ hạn ngân hàng) sẽ được ('có') hay không ('không') được đăng ký.\n",
        "\n",
        "Có bốn tập dữ liệu:\n",
        "\n",
        "1) ngân hàng-bổ sung-đầy đủ.csv với tất cả các ví dụ (41188) và 20 đầu vào, được sắp xếp theo ngày (từ tháng 5 năm 2008 đến tháng 11 năm 2010), rất gần với dữ liệu được phân tích trong [Moro và cộng sự, 2014]\n",
        "2) ngân hàng bổ sung.csv với 10% trong số các ví dụ (4119), được chọn ngẫu nhiên từ 1) và 20 đầu vào.\n",
        "3) bank-full.csv với tất cả các ví dụ và 17 đầu vào, được sắp xếp theo ngày (phiên bản cũ hơn của tập dữ liệu này với ít đầu vào hơn).\n",
        "4) bank.csv với 10% ví dụ và 17 đầu vào, được chọn ngẫu nhiên từ 3 (phiên bản cũ hơn của tập dữ liệu này với ít đầu vào hơn).\n",
        "Các bộ dữ liệu nhỏ nhất được cung cấp để kiểm tra các thuật toán máy học đòi hỏi tính toán nhiều hơn (ví dụ: SVM).\n",
        "\n",
        "Mục tiêu phân loại là dự đoán liệu khách hàng có đăng ký (có / không) một khoản tiền gửi có kỳ hạn (biến y) hay không.\n",
        "\n",
        "Input variables:\n",
        "# bank client data:\n",
        "1 - age (numeric)\n",
        "\n",
        "2 - job : type of job (categorical: 'admin.','blue-collar','entrepreneur','housemaid','management','retired','self-employed','services','student','technician','unemployed','unknown')\n",
        "\n",
        "3 - marital : marital status (categorical: 'divorced','married','single','unknown'; note: 'divorced' means divorced or widowed)\n",
        "\n",
        "4 - education (categorical: 'basic.4y','basic.6y','basic.9y','high.school','illiterate','professional.course','university.degree','unknown')\n",
        "\n",
        "5 - default: has credit in default? (categorical: 'no','yes','unknown')\n",
        "\n",
        "6 - housing: has housing loan? (categorical: 'no','yes','unknown')\n",
        "\n",
        "7 - loan: has personal loan? (categorical: 'no','yes','unknown')\n",
        "\n",
        "8 - contact: contact communication type (categorical: 'cellular','telephone')\n",
        "\n",
        "9 - month: last contact month of year (categorical: 'jan', 'feb', 'mar', ..., 'nov', 'dec')\n",
        "\n",
        "10 - day_of_week: last contact day of the week (categorical: 'mon','tue','wed','thu','fri')\n",
        "\n",
        "11 - duration: last contact duration, in seconds (numeric). Important note: this attribute highly affects the output target (e.g., if duration=0 then y='no'). Yet, the duration is not known before a call is performed. Also, after the end of the call y is obviously known. Thus, this input should only be included for benchmark purposes and should be discarded if the intention is to have a realistic predictive model.\n",
        "\n",
        "12 - campaign: number of contacts performed during this campaign and for this client (numeric, includes last contact)\n",
        "\n",
        "13 - pdays: number of days that passed by after the client was last contacted from a previous campaign (numeric; 999 means client was not previously contacted)\n",
        "\n",
        "14 - previous: number of contacts performed before this campaign and for this client (numeric)\n",
        "\n",
        "15 - poutcome: outcome of the previous marketing campaign (categorical: 'failure','nonexistent','success')\n",
        "\n",
        "16 - emp.var.rate: employment variation rate - quarterly indicator (numeric)\n",
        "\n",
        "17 - cons.price.idx: consumer price index - monthly indicator (numeric)\n",
        "\n",
        "18 - cons.conf.idx: consumer confidence index - monthly indicator (numeric)\n",
        "\n",
        "19 - euribor3m: euribor 3 month rate - daily indicator (numeric)\n",
        "\n",
        "20 - nr.employed: number of employees - quarterly indicator (numeric)\n",
        "\n",
        "Output variable (desired target):\n",
        "\n",
        "21 - y - has the client subscribed a term deposit? (binary: 'yes','no')"
      ],
      "metadata": {
        "id": "iNGefvCgbESb"
      }
    },
    {
      "cell_type": "code",
      "source": [
        "import pandas as pd "
      ],
      "metadata": {
        "id": "yztKkfmKaeJp"
      },
      "execution_count": null,
      "outputs": []
    },
    {
      "cell_type": "markdown",
      "source": [
        "# **Đọc dữ liệu Và tiền xử lí dữ liệu**"
      ],
      "metadata": {
        "id": "pGI5M_iCQa0c"
      }
    },
    {
      "cell_type": "code",
      "execution_count": null,
      "metadata": {
        "colab": {
          "base_uri": "https://localhost:8080/",
          "height": 206
        },
        "id": "YUK64q8eaW9_",
        "outputId": "f7776b96-4967-48a6-aecc-b78b44e34924"
      },
      "outputs": [
        {
          "output_type": "execute_result",
          "data": {
            "text/plain": [
              "   age           job  marital  education default  balance housing loan  \\\n",
              "0   58    management  married   tertiary      no     2143     yes   no   \n",
              "1   44    technician   single  secondary      no       29     yes   no   \n",
              "2   33  entrepreneur  married  secondary      no        2     yes  yes   \n",
              "3   47   blue-collar  married    unknown      no     1506     yes   no   \n",
              "4   33       unknown   single    unknown      no        1      no   no   \n",
              "\n",
              "   contact  day month  duration  campaign  pdays  previous poutcome   y  \n",
              "0  unknown  5.0   may     261.0       1.0   -1.0       0.0  unknown  no  \n",
              "1  unknown  5.0   may     151.0       1.0   -1.0       0.0  unknown  no  \n",
              "2  unknown  5.0   may      76.0       1.0   -1.0       0.0  unknown  no  \n",
              "3  unknown  5.0   may      92.0       1.0   -1.0       0.0  unknown  no  \n",
              "4  unknown  5.0   may     198.0       1.0   -1.0       0.0  unknown  no  "
            ],
            "text/html": [
              "\n",
              "  <div id=\"df-98f56945-ead8-46ae-9eab-a2ed4333e68b\">\n",
              "    <div class=\"colab-df-container\">\n",
              "      <div>\n",
              "<style scoped>\n",
              "    .dataframe tbody tr th:only-of-type {\n",
              "        vertical-align: middle;\n",
              "    }\n",
              "\n",
              "    .dataframe tbody tr th {\n",
              "        vertical-align: top;\n",
              "    }\n",
              "\n",
              "    .dataframe thead th {\n",
              "        text-align: right;\n",
              "    }\n",
              "</style>\n",
              "<table border=\"1\" class=\"dataframe\">\n",
              "  <thead>\n",
              "    <tr style=\"text-align: right;\">\n",
              "      <th></th>\n",
              "      <th>age</th>\n",
              "      <th>job</th>\n",
              "      <th>marital</th>\n",
              "      <th>education</th>\n",
              "      <th>default</th>\n",
              "      <th>balance</th>\n",
              "      <th>housing</th>\n",
              "      <th>loan</th>\n",
              "      <th>contact</th>\n",
              "      <th>day</th>\n",
              "      <th>month</th>\n",
              "      <th>duration</th>\n",
              "      <th>campaign</th>\n",
              "      <th>pdays</th>\n",
              "      <th>previous</th>\n",
              "      <th>poutcome</th>\n",
              "      <th>y</th>\n",
              "    </tr>\n",
              "  </thead>\n",
              "  <tbody>\n",
              "    <tr>\n",
              "      <th>0</th>\n",
              "      <td>58</td>\n",
              "      <td>management</td>\n",
              "      <td>married</td>\n",
              "      <td>tertiary</td>\n",
              "      <td>no</td>\n",
              "      <td>2143</td>\n",
              "      <td>yes</td>\n",
              "      <td>no</td>\n",
              "      <td>unknown</td>\n",
              "      <td>5.0</td>\n",
              "      <td>may</td>\n",
              "      <td>261.0</td>\n",
              "      <td>1.0</td>\n",
              "      <td>-1.0</td>\n",
              "      <td>0.0</td>\n",
              "      <td>unknown</td>\n",
              "      <td>no</td>\n",
              "    </tr>\n",
              "    <tr>\n",
              "      <th>1</th>\n",
              "      <td>44</td>\n",
              "      <td>technician</td>\n",
              "      <td>single</td>\n",
              "      <td>secondary</td>\n",
              "      <td>no</td>\n",
              "      <td>29</td>\n",
              "      <td>yes</td>\n",
              "      <td>no</td>\n",
              "      <td>unknown</td>\n",
              "      <td>5.0</td>\n",
              "      <td>may</td>\n",
              "      <td>151.0</td>\n",
              "      <td>1.0</td>\n",
              "      <td>-1.0</td>\n",
              "      <td>0.0</td>\n",
              "      <td>unknown</td>\n",
              "      <td>no</td>\n",
              "    </tr>\n",
              "    <tr>\n",
              "      <th>2</th>\n",
              "      <td>33</td>\n",
              "      <td>entrepreneur</td>\n",
              "      <td>married</td>\n",
              "      <td>secondary</td>\n",
              "      <td>no</td>\n",
              "      <td>2</td>\n",
              "      <td>yes</td>\n",
              "      <td>yes</td>\n",
              "      <td>unknown</td>\n",
              "      <td>5.0</td>\n",
              "      <td>may</td>\n",
              "      <td>76.0</td>\n",
              "      <td>1.0</td>\n",
              "      <td>-1.0</td>\n",
              "      <td>0.0</td>\n",
              "      <td>unknown</td>\n",
              "      <td>no</td>\n",
              "    </tr>\n",
              "    <tr>\n",
              "      <th>3</th>\n",
              "      <td>47</td>\n",
              "      <td>blue-collar</td>\n",
              "      <td>married</td>\n",
              "      <td>unknown</td>\n",
              "      <td>no</td>\n",
              "      <td>1506</td>\n",
              "      <td>yes</td>\n",
              "      <td>no</td>\n",
              "      <td>unknown</td>\n",
              "      <td>5.0</td>\n",
              "      <td>may</td>\n",
              "      <td>92.0</td>\n",
              "      <td>1.0</td>\n",
              "      <td>-1.0</td>\n",
              "      <td>0.0</td>\n",
              "      <td>unknown</td>\n",
              "      <td>no</td>\n",
              "    </tr>\n",
              "    <tr>\n",
              "      <th>4</th>\n",
              "      <td>33</td>\n",
              "      <td>unknown</td>\n",
              "      <td>single</td>\n",
              "      <td>unknown</td>\n",
              "      <td>no</td>\n",
              "      <td>1</td>\n",
              "      <td>no</td>\n",
              "      <td>no</td>\n",
              "      <td>unknown</td>\n",
              "      <td>5.0</td>\n",
              "      <td>may</td>\n",
              "      <td>198.0</td>\n",
              "      <td>1.0</td>\n",
              "      <td>-1.0</td>\n",
              "      <td>0.0</td>\n",
              "      <td>unknown</td>\n",
              "      <td>no</td>\n",
              "    </tr>\n",
              "  </tbody>\n",
              "</table>\n",
              "</div>\n",
              "      <button class=\"colab-df-convert\" onclick=\"convertToInteractive('df-98f56945-ead8-46ae-9eab-a2ed4333e68b')\"\n",
              "              title=\"Convert this dataframe to an interactive table.\"\n",
              "              style=\"display:none;\">\n",
              "        \n",
              "  <svg xmlns=\"http://www.w3.org/2000/svg\" height=\"24px\"viewBox=\"0 0 24 24\"\n",
              "       width=\"24px\">\n",
              "    <path d=\"M0 0h24v24H0V0z\" fill=\"none\"/>\n",
              "    <path d=\"M18.56 5.44l.94 2.06.94-2.06 2.06-.94-2.06-.94-.94-2.06-.94 2.06-2.06.94zm-11 1L8.5 8.5l.94-2.06 2.06-.94-2.06-.94L8.5 2.5l-.94 2.06-2.06.94zm10 10l.94 2.06.94-2.06 2.06-.94-2.06-.94-.94-2.06-.94 2.06-2.06.94z\"/><path d=\"M17.41 7.96l-1.37-1.37c-.4-.4-.92-.59-1.43-.59-.52 0-1.04.2-1.43.59L10.3 9.45l-7.72 7.72c-.78.78-.78 2.05 0 2.83L4 21.41c.39.39.9.59 1.41.59.51 0 1.02-.2 1.41-.59l7.78-7.78 2.81-2.81c.8-.78.8-2.07 0-2.86zM5.41 20L4 18.59l7.72-7.72 1.47 1.35L5.41 20z\"/>\n",
              "  </svg>\n",
              "      </button>\n",
              "      \n",
              "  <style>\n",
              "    .colab-df-container {\n",
              "      display:flex;\n",
              "      flex-wrap:wrap;\n",
              "      gap: 12px;\n",
              "    }\n",
              "\n",
              "    .colab-df-convert {\n",
              "      background-color: #E8F0FE;\n",
              "      border: none;\n",
              "      border-radius: 50%;\n",
              "      cursor: pointer;\n",
              "      display: none;\n",
              "      fill: #1967D2;\n",
              "      height: 32px;\n",
              "      padding: 0 0 0 0;\n",
              "      width: 32px;\n",
              "    }\n",
              "\n",
              "    .colab-df-convert:hover {\n",
              "      background-color: #E2EBFA;\n",
              "      box-shadow: 0px 1px 2px rgba(60, 64, 67, 0.3), 0px 1px 3px 1px rgba(60, 64, 67, 0.15);\n",
              "      fill: #174EA6;\n",
              "    }\n",
              "\n",
              "    [theme=dark] .colab-df-convert {\n",
              "      background-color: #3B4455;\n",
              "      fill: #D2E3FC;\n",
              "    }\n",
              "\n",
              "    [theme=dark] .colab-df-convert:hover {\n",
              "      background-color: #434B5C;\n",
              "      box-shadow: 0px 1px 3px 1px rgba(0, 0, 0, 0.15);\n",
              "      filter: drop-shadow(0px 1px 2px rgba(0, 0, 0, 0.3));\n",
              "      fill: #FFFFFF;\n",
              "    }\n",
              "  </style>\n",
              "\n",
              "      <script>\n",
              "        const buttonEl =\n",
              "          document.querySelector('#df-98f56945-ead8-46ae-9eab-a2ed4333e68b button.colab-df-convert');\n",
              "        buttonEl.style.display =\n",
              "          google.colab.kernel.accessAllowed ? 'block' : 'none';\n",
              "\n",
              "        async function convertToInteractive(key) {\n",
              "          const element = document.querySelector('#df-98f56945-ead8-46ae-9eab-a2ed4333e68b');\n",
              "          const dataTable =\n",
              "            await google.colab.kernel.invokeFunction('convertToInteractive',\n",
              "                                                     [key], {});\n",
              "          if (!dataTable) return;\n",
              "\n",
              "          const docLinkHtml = 'Like what you see? Visit the ' +\n",
              "            '<a target=\"_blank\" href=https://colab.research.google.com/notebooks/data_table.ipynb>data table notebook</a>'\n",
              "            + ' to learn more about interactive tables.';\n",
              "          element.innerHTML = '';\n",
              "          dataTable['output_type'] = 'display_data';\n",
              "          await google.colab.output.renderOutput(dataTable, element);\n",
              "          const docLink = document.createElement('div');\n",
              "          docLink.innerHTML = docLinkHtml;\n",
              "          element.appendChild(docLink);\n",
              "        }\n",
              "      </script>\n",
              "    </div>\n",
              "  </div>\n",
              "  "
            ]
          },
          "metadata": {},
          "execution_count": 3
        }
      ],
      "source": [
        "# 1.1 read data \n",
        "filename = '/content/bank-full.csv'\n",
        "df = pd.read_csv(filename,sep = \";\")\n",
        "df.head(5)"
      ]
    },
    {
      "cell_type": "code",
      "source": [
        "from google.colab import drive\n",
        "drive.mount('/content/drive')"
      ],
      "metadata": {
        "id": "47YLuFU9M7Nk"
      },
      "execution_count": null,
      "outputs": []
    },
    {
      "cell_type": "code",
      "source": [
        "print(\"DataFrame have\",df.shape[1],\"Columns and,\",df.shape[0],\"Rows\")\n"
      ],
      "metadata": {
        "colab": {
          "base_uri": "https://localhost:8080/"
        },
        "id": "vwxTo4yqdw-s",
        "outputId": "fa79d9d1-2fe7-484c-c40e-e98e4edf94b6"
      },
      "execution_count": null,
      "outputs": [
        {
          "output_type": "stream",
          "name": "stdout",
          "text": [
            "DataFrame have 17 Columns and, 45211 Rows\n"
          ]
        }
      ]
    },
    {
      "cell_type": "code",
      "source": [
        "names = list(df.columns)\n",
        "print(\"List name Columns:\")\n",
        "for i in names:\n",
        "  print(\"*  \",i)"
      ],
      "metadata": {
        "colab": {
          "base_uri": "https://localhost:8080/"
        },
        "id": "oFcM1rRqeSrm",
        "outputId": "1804b572-f409-4f8a-d2ee-f26799d96234"
      },
      "execution_count": null,
      "outputs": [
        {
          "output_type": "stream",
          "name": "stdout",
          "text": [
            "List name Columns:\n",
            "*   age\n",
            "*   job\n",
            "*   marital\n",
            "*   education\n",
            "*   default\n",
            "*   balance\n",
            "*   housing\n",
            "*   loan\n",
            "*   contact\n",
            "*   day\n",
            "*   month\n",
            "*   duration\n",
            "*   campaign\n",
            "*   pdays\n",
            "*   previous\n",
            "*   poutcome\n",
            "*   y\n"
          ]
        }
      ]
    },
    {
      "cell_type": "code",
      "source": [
        "g = df[names[-1]].value_counts()\n",
        "g.plot.bar()"
      ],
      "metadata": {
        "colab": {
          "base_uri": "https://localhost:8080/",
          "height": 290
        },
        "id": "K_kuA3CiemG-",
        "outputId": "2641d092-0eb4-4f48-a379-af4339e3e052"
      },
      "execution_count": null,
      "outputs": [
        {
          "output_type": "execute_result",
          "data": {
            "text/plain": [
              "<matplotlib.axes._subplots.AxesSubplot at 0x7f1646e8dc50>"
            ]
          },
          "metadata": {},
          "execution_count": 31
        },
        {
          "output_type": "display_data",
          "data": {
            "text/plain": [
              "<Figure size 432x288 with 1 Axes>"
            ],
            "image/png": "[encoded data removed]"
          },
          "metadata": {
            "needs_background": "light"
          }
        }
      ]
    },
    {
      "cell_type": "code",
      "source": [
        "types = df.dtypes\n",
        "print(types)"
      ],
      "metadata": {
        "colab": {
          "base_uri": "https://localhost:8080/"
        },
        "id": "miCBcnXdetdO",
        "outputId": "b545ea70-763c-4ff9-e80c-2570f628dad0"
      },
      "execution_count": null,
      "outputs": [
        {
          "output_type": "stream",
          "name": "stdout",
          "text": [
            "age           int64\n",
            "job          object\n",
            "marital      object\n",
            "education    object\n",
            "default      object\n",
            "balance       int64\n",
            "housing      object\n",
            "loan         object\n",
            "contact      object\n",
            "day           int64\n",
            "month        object\n",
            "duration      int64\n",
            "campaign      int64\n",
            "pdays         int64\n",
            "previous      int64\n",
            "poutcome     object\n",
            "y            object\n",
            "dtype: object\n"
          ]
        }
      ]
    },
    {
      "cell_type": "markdown",
      "source": [
        "Chuẩn hóa dữ liệu"
      ],
      "metadata": {
        "id": "79Ba-C5AQRqH"
      }
    },
    {
      "cell_type": "code",
      "source": [
        "from sklearn.preprocessing import LabelEncoder \n",
        "le = LabelEncoder()\n",
        "for i in range(len(types)):\n",
        "  if types[i]=='object':\n",
        "    le.fit_transform(df[names[i]])\n",
        "    df[names[i]] = le.transform(df[names[i]])"
      ],
      "metadata": {
        "id": "2M-GVmbGfCOC"
      },
      "execution_count": null,
      "outputs": []
    },
    {
      "cell_type": "code",
      "source": [
        "data = df.values\n",
        "print(data[:2])"
      ],
      "metadata": {
        "colab": {
          "base_uri": "https://localhost:8080/"
        },
        "id": "nWOOu3hDfE-F",
        "outputId": "96c3af67-97ad-42f8-a3c3-1aad7b8a5bb3"
      },
      "execution_count": null,
      "outputs": [
        {
          "output_type": "stream",
          "name": "stdout",
          "text": [
            "[[  58    4    1    2    0 2143    1    0    2    5    8  261    1   -1\n",
            "     0    3    0]\n",
            " [  44    9    2    1    0   29    1    0    2    5    8  151    1   -1\n",
            "     0    3    0]]\n"
          ]
        }
      ]
    },
    {
      "cell_type": "code",
      "source": [
        "X = data[:,:-1]\n",
        "y = data[:,-1]\n",
        "print(X.shape)\n",
        "print(y.shape)\n",
        "from sklearn.preprocessing import MinMaxScaler\n",
        "scaler = MinMaxScaler()\n",
        "scaler.fit(X)\n",
        "X_scaled = scaler.transform(X)\n",
        "print(X_scaled[0])"
      ],
      "metadata": {
        "colab": {
          "base_uri": "https://localhost:8080/"
        },
        "id": "KEtj-u6CfLA_",
        "outputId": "de5ad618-efd8-4549-d36b-72276d49019c"
      },
      "execution_count": null,
      "outputs": [
        {
          "output_type": "stream",
          "name": "stdout",
          "text": [
            "(45211, 16)\n",
            "(45211,)\n",
            "[0.51948052 0.36363636 0.5        0.66666667 0.         0.09225936\n",
            " 1.         0.         1.         0.13333333 0.72727273 0.05307035\n",
            " 0.         0.         0.         1.        ]\n"
          ]
        }
      ]
    },
    {
      "cell_type": "code",
      "source": [
        "from sklearn.preprocessing import MinMaxScaler\n",
        "scaler = MinMaxScaler()\n",
        "scaler.fit(X)\n",
        "X_scaled = scaler.transform(X)\n",
        "print(X_scaled[0])"
      ],
      "metadata": {
        "colab": {
          "base_uri": "https://localhost:8080/"
        },
        "id": "0CB6pEicfVz2",
        "outputId": "bbf119a5-4245-47da-8b6f-a7fdada82dc0"
      },
      "execution_count": null,
      "outputs": [
        {
          "output_type": "stream",
          "name": "stdout",
          "text": [
            "[0.51948052 0.36363636 0.5        0.66666667 0.         0.09225936\n",
            " 1.         0.         1.         0.13333333 0.72727273 0.05307035\n",
            " 0.         0.         0.         1.        ]\n"
          ]
        }
      ]
    },
    {
      "cell_type": "code",
      "source": [
        "from sklearn.model_selection import train_test_split\n",
        "\n",
        "X_train, X_test, y_train, y_test = train_test_split(X_scaled,y,random_state=42,\n",
        "                                                    test_size=0.25)"
      ],
      "metadata": {
        "id": "VatkC6aSfXyA"
      },
      "execution_count": null,
      "outputs": []
    },
    {
      "cell_type": "markdown",
      "source": [
        "# **Các thông số để so sánh**"
      ],
      "metadata": {
        "id": "alwC187zD3Wp"
      }
    },
    {
      "cell_type": "code",
      "source": [
        "timesTraining =[0,0,0]\n",
        "timesTesting = [0,0,0]\n",
        "precision = [0,0,0]\n",
        "recall = [0,0,0]\n",
        "f1_score = [0,0,0]\n"
      ],
      "metadata": {
        "id": "uSB0SjSjcptl"
      },
      "execution_count": null,
      "outputs": []
    },
    {
      "cell_type": "markdown",
      "source": [
        "# **Mô Hình kNN**"
      ],
      "metadata": {
        "id": "A82zXFSIcwtO"
      }
    },
    {
      "cell_type": "code",
      "source": [
        "from sklearn.neighbors import KNeighborsClassifier\n",
        "import time \n",
        "start = time.time()\n",
        "kNN = KNeighborsClassifier(n_neighbors=3)\n",
        "kNN.fit(X_train,y_train)\n",
        "stop = time.time()\n",
        "timesTraining[0]= (stop - start)\n",
        "print(f\"Training time: {stop - start}s\")"
      ],
      "metadata": {
        "colab": {
          "base_uri": "https://localhost:8080/"
        },
        "id": "G-G9Ac0xfftY",
        "outputId": "af42f09d-6e28-4a8a-bcd7-dbb3abea33ea"
      },
      "execution_count": null,
      "outputs": [
        {
          "output_type": "stream",
          "name": "stdout",
          "text": [
            "Training time: 0.0047681331634521484s\n"
          ]
        }
      ]
    },
    {
      "cell_type": "code",
      "source": [
        "# prediction \n",
        "y_predict = kNN.predict(X_test)\n",
        "start = time.time()\n",
        "error = 0\n",
        "i= 0\n",
        "for i in range(len(X_test)):\n",
        "  # print(y_test[i],y_predict[i])\n",
        "  if y_test[i] != y_predict[i]:\n",
        "    error += 1\n",
        "stop = time.time()\n",
        "print(f\"Testing time: {stop - start}s\")\n",
        "timesTesting[0]= (stop - start)\n",
        "print(f'Number of mislabeled points out of a total {i} points : {error}') "
      ],
      "metadata": {
        "colab": {
          "base_uri": "https://localhost:8080/"
        },
        "id": "_ulWVtuEfY-Z",
        "outputId": "c62d7767-b505-4b14-f444-eba3f12dfd57"
      },
      "execution_count": null,
      "outputs": [
        {
          "output_type": "stream",
          "name": "stdout",
          "text": [
            "Testing time: 0.00379180908203125s\n",
            "Number of mislabeled points out of a total 11302 points : 1286\n"
          ]
        }
      ]
    },
    {
      "cell_type": "code",
      "source": [
        "from sklearn.metrics import classification_report\n",
        "print( classification_report(y_test, y_predict))\n",
        "\n",
        "report = classification_report(y_test, y_predict,output_dict=True)\n",
        "precision[0] =report['1']['precision']\n",
        "recall[0]=report['1']['recall']\n",
        "f1_score[0] = report['1']['f1-score']"
      ],
      "metadata": {
        "colab": {
          "base_uri": "https://localhost:8080/"
        },
        "id": "KxiazK2rUUuX",
        "outputId": "918c3cf6-217e-49e2-c283-24f23cf22015"
      },
      "execution_count": null,
      "outputs": [
        {
          "output_type": "stream",
          "name": "stdout",
          "text": [
            "              precision    recall  f1-score   support\n",
            "\n",
            "           0       0.91      0.97      0.94      9950\n",
            "           1       0.55      0.26      0.36      1353\n",
            "\n",
            "    accuracy                           0.89     11303\n",
            "   macro avg       0.73      0.62      0.65     11303\n",
            "weighted avg       0.86      0.89      0.87     11303\n",
            "\n"
          ]
        }
      ]
    },
    {
      "cell_type": "markdown",
      "source": [
        "# **Mô hình decision tree**"
      ],
      "metadata": {
        "id": "gF9Zk7DfgRdr"
      }
    },
    {
      "cell_type": "code",
      "source": [
        "from sklearn.tree import DecisionTreeClassifier\n",
        "import time \n",
        "\n",
        "dt = DecisionTreeClassifier(max_depth= 5)\n",
        "start = time.time()\n",
        "dt.fit(X_train,y_train)\n",
        "stop = time.time()\n",
        "timesTraining[1]=(stop - start)\n",
        "print(f\"Training time: {stop - start}s\")"
      ],
      "metadata": {
        "id": "uMeR8CHbgxe0",
        "colab": {
          "base_uri": "https://localhost:8080/"
        },
        "outputId": "314f857a-6d1c-4c7e-b0e9-240ea5d0fa64"
      },
      "execution_count": null,
      "outputs": [
        {
          "output_type": "stream",
          "name": "stdout",
          "text": [
            "Training time: 0.09731292724609375s\n"
          ]
        }
      ]
    },
    {
      "cell_type": "code",
      "source": [
        "y_predict = dt.predict(X_test)\n",
        "start = time.time()\n",
        "error = 0\n",
        "i= 0\n",
        "for i in range(len(X_test)):\n",
        "  # print(y_test[i],y_predict[i])\n",
        "  if y_test[i] != y_predict[i]:\n",
        "    error += 1\n",
        "stop = time.time()\n",
        "print(f\"Testing Time : {stop - start}s\")\n",
        "timesTesting[1] = (stop - start)\n",
        "\n",
        "print(f'Number of mislabeled points out of a total {i} points : {error}') "
      ],
      "metadata": {
        "id": "Eb1KMQVXgyfO",
        "outputId": "5fd73818-6506-463d-d022-9508dee9416c",
        "colab": {
          "base_uri": "https://localhost:8080/"
        }
      },
      "execution_count": null,
      "outputs": [
        {
          "output_type": "stream",
          "name": "stdout",
          "text": [
            "Testing Time : 0.006503105163574219s\n",
            "Number of mislabeled points out of a total 11302 points : 1206\n"
          ]
        }
      ]
    },
    {
      "cell_type": "code",
      "source": [
        "from sklearn.metrics import classification_report\n",
        "print( classification_report(y_test, y_predict))\n",
        "\n",
        "report = classification_report(y_test, y_predict,output_dict=True)\n",
        "precision[1] =report['1']['precision']\n",
        "recall[1]=report['1']['recall']\n",
        "f1_score[1] = report['1']['f1-score']"
      ],
      "metadata": {
        "colab": {
          "base_uri": "https://localhost:8080/"
        },
        "id": "N4RBW-BXYOm4",
        "outputId": "2305a2cc-4d78-40f6-eb2d-8ed707f084e4"
      },
      "execution_count": null,
      "outputs": [
        {
          "output_type": "stream",
          "name": "stdout",
          "text": [
            "              precision    recall  f1-score   support\n",
            "\n",
            "           0       0.92      0.96      0.94      9950\n",
            "           1       0.58      0.37      0.46      1353\n",
            "\n",
            "    accuracy                           0.89     11303\n",
            "   macro avg       0.75      0.67      0.70     11303\n",
            "weighted avg       0.88      0.89      0.88     11303\n",
            "\n"
          ]
        }
      ]
    },
    {
      "cell_type": "markdown",
      "source": [
        "# **Mô hình GaussianNB**"
      ],
      "metadata": {
        "id": "PiiB5Kb_QrU5"
      }
    },
    {
      "cell_type": "code",
      "source": [
        "from sklearn.naive_bayes import GaussianNB\n",
        "import time \n",
        "start = time.time()\n",
        "gnb = GaussianNB()\n",
        "y_predict = gnb.fit(X_train, y_train).predict(X_test)\n",
        "stop = time.time()\n",
        "timesTraining[2]=(stop - start)\n",
        "print(f\"Training time: {stop - start}s\")"
      ],
      "metadata": {
        "id": "Gfi8q_N-QuUm",
        "colab": {
          "base_uri": "https://localhost:8080/"
        },
        "outputId": "329276e7-b3ff-4c2e-b294-1de13c594f7f"
      },
      "execution_count": null,
      "outputs": [
        {
          "output_type": "stream",
          "name": "stdout",
          "text": [
            "Training time: 0.032433271408081055s\n"
          ]
        }
      ]
    },
    {
      "cell_type": "code",
      "source": [
        "# prediction \n",
        "start = time.time()\n",
        "error = 0\n",
        "\n",
        "i= 0\n",
        "for i in range(len(X_test)):\n",
        "  # print(y_test[i],y_predict[i])\n",
        "  if y_test[i] != y_predict[i]:\n",
        "    error += 1\n",
        "print(f'Number of mislabeled points out of a total {i} points : {error}') \n",
        "stop = time.time()\n",
        "timesTesting[2] = (stop - start)\n",
        "print(f\"Testing time: {stop - start}s\")"
      ],
      "metadata": {
        "colab": {
          "base_uri": "https://localhost:8080/"
        },
        "id": "CcmA3OPcQ9Zs",
        "outputId": "e526d141-ddb2-46ec-cb12-85ddd5097ff6"
      },
      "execution_count": null,
      "outputs": [
        {
          "output_type": "stream",
          "name": "stdout",
          "text": [
            "Number of mislabeled points out of a total 11302 points : 1972\n",
            "Testing time: 0.004271984100341797s\n"
          ]
        }
      ]
    },
    {
      "cell_type": "code",
      "source": [
        "from sklearn.metrics import classification_report\n",
        "print( classification_report(y_test, y_predict))\n",
        "\n",
        "report = classification_report(y_test, y_predict,output_dict=True)\n",
        "precision[2] =report['1']['precision']\n",
        "recall[2]=report['1']['recall']\n",
        "f1_score[2] = report['1']['f1-score']"
      ],
      "metadata": {
        "colab": {
          "base_uri": "https://localhost:8080/"
        },
        "id": "QIoL68g_YXBY",
        "outputId": "d3112c65-6ad8-4498-f668-a88a562d20c5"
      },
      "execution_count": null,
      "outputs": [
        {
          "output_type": "stream",
          "name": "stdout",
          "text": [
            "              precision    recall  f1-score   support\n",
            "\n",
            "           0       0.93      0.87      0.90      9950\n",
            "           1       0.34      0.48      0.40      1353\n",
            "\n",
            "    accuracy                           0.83     11303\n",
            "   macro avg       0.63      0.68      0.65     11303\n",
            "weighted avg       0.86      0.83      0.84     11303\n",
            "\n"
          ]
        }
      ]
    },
    {
      "cell_type": "markdown",
      "source": [
        "# **So sánh các thông số**"
      ],
      "metadata": {
        "id": "_c0CW7HuEHmw"
      }
    },
    {
      "cell_type": "code",
      "source": [
        "import numpy as np \n",
        "import matplotlib.pyplot as plt \n",
        "  \n",
        "X = ['kNN','decision tree','GaussianNB']\n",
        "\n",
        "X_axis = np.arange(len(X))\n",
        "  \n",
        "plt.bar(X_axis - 0.2, timesTraining, 0.4, label = 'Time Training')\n",
        "plt.bar(X_axis + 0.2, timesTesting, 0.4, label = 'Time Testing')\n",
        "  \n",
        "plt.xticks(X_axis, X)\n",
        "plt.xlabel(\"Các mô hình\")\n",
        "plt.ylabel(\"Thời gian chạy ( giây) \")\n",
        "plt.title(\"So sánh thời gian Training và Testing các mô hình\")\n",
        "plt.legend()\n",
        "plt.show()\n",
        "\n",
        "\n",
        "\n"
      ],
      "metadata": {
        "colab": {
          "base_uri": "https://localhost:8080/",
          "height": 295
        },
        "id": "CUfg9PYAdjPP",
        "outputId": "fcba0586-0774-4e3b-ff91-d974f812ce52"
      },
      "execution_count": null,
      "outputs": [
        {
          "output_type": "display_data",
          "data": {
            "text/plain": [
              "<Figure size 432x288 with 1 Axes>"
            ],
            "image/png": "[encoded data removed]"
          },
          "metadata": {
            "needs_background": "light"
          }
        }
      ]
    },
    {
      "cell_type": "code",
      "source": [
        "X = ['kNN','decision tree','GaussianNB']\n",
        "X_axis = np.arange(len(X))\n",
        "plt.bar(X_axis -0.2, precision, 0.2, label = 'precision')\n",
        "plt.bar(X_axis + 0, recall, 0.2, label = 'recall')\n",
        "plt.bar(X_axis + 0.2, f1_score, 0.2, label = 'f1-score')\n",
        "plt.xticks(X_axis, X)\n",
        "plt.xlabel(\"Các mô hình\")\n",
        "plt.ylabel(\"\")\n",
        "plt.title(\"So sánh 3 thông số Precision, recall, f1-score của 3 mô hình\")\n",
        "plt.legend()\n",
        "plt.show()\n"
      ],
      "metadata": {
        "colab": {
          "base_uri": "https://localhost:8080/",
          "height": 296
        },
        "id": "arZ8dH_wkSf1",
        "outputId": "504263c9-48c6-4858-adb9-5e4d18748e3a"
      },
      "execution_count": null,
      "outputs": [
        {
          "output_type": "display_data",
          "data": {
            "text/plain": [
              "<Figure size 432x288 with 1 Axes>"
            ],
            "image/png": "[encoded data removed]"
          },
          "metadata": {
            "needs_background": "light"
          }
        }
      ]
    }
  ]
}